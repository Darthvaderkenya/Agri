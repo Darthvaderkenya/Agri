{
 "cells": [
  {
   "cell_type": "markdown",
   "metadata": {},
   "source": [
    "## Welcome to the Foundational Course "
   ]
  },
  {
   "cell_type": "markdown",
   "metadata": {},
   "source": [
    "##### We start with learning how to print our names in python \n",
    "#### Remember to go to the next cell Type shift+Enter"
   ]
  },
  {
   "cell_type": "markdown",
   "metadata": {},
   "source": [
    "##### I will be your instructor for this course "
   ]
  },
  {
   "cell_type": "code",
   "execution_count": 38,
   "metadata": {},
   "outputs": [
    {
     "name": "stdout",
     "output_type": "stream",
     "text": [
      "Jina langu ni  : Silas Macharia \n"
     ]
    }
   ],
   "source": [
    "print (\"Jina langu ni- My name  : Silas Macharia \")"
   ]
  },
  {
   "cell_type": "markdown",
   "metadata": {},
   "source": [
    "###### Let us start with printing our names"
   ]
  },
  {
   "cell_type": "code",
   "execution_count": 39,
   "metadata": {},
   "outputs": [
    {
     "name": "stdout",
     "output_type": "stream",
     "text": [
      " Enter your name : Silas Macharia\n",
      " Hello Macharia\n",
      "Silas Macharia nice to meet you\n"
     ]
    }
   ],
   "source": [
    "jina = input(\" Enter your name : \")\n",
    "print(\" Hello\", name) \n",
    "print(jina,\"nice to meet you\")"
   ]
  },
  {
   "cell_type": "markdown",
   "metadata": {},
   "source": [
    "##### Let start with variables and types\n",
    "###### We will write an small program for kilo plucked of tea on farm with the raten per kilo and output the total pay then we will input the tax rate and output pay "
   ]
  },
  {
   "cell_type": "code",
   "execution_count": 22,
   "metadata": {},
   "outputs": [
    {
     "name": "stdout",
     "output_type": "stream",
     "text": [
      "Enter Number of Kilos: 45\n",
      " Enter Rate per Kilo: 10\n",
      "45 10\n"
     ]
    },
    {
     "ename": "TypeError",
     "evalue": "can't multiply sequence by non-int of type 'str'",
     "output_type": "error",
     "traceback": [
      "\u001b[1;31m---------------------------------------------------------------------------\u001b[0m",
      "\u001b[1;31mTypeError\u001b[0m                                 Traceback (most recent call last)",
      "\u001b[1;32m<ipython-input-22-43165f454c7b>\u001b[0m in \u001b[0;36m<module>\u001b[1;34m\u001b[0m\n\u001b[0;32m      6\u001b[0m \u001b[0mrate_per_kilo\u001b[0m \u001b[1;33m=\u001b[0m \u001b[0minput\u001b[0m\u001b[1;33m(\u001b[0m\u001b[1;34m\" Enter Rate per Kilo: \"\u001b[0m\u001b[1;33m)\u001b[0m\u001b[1;33m\u001b[0m\u001b[1;33m\u001b[0m\u001b[0m\n\u001b[0;32m      7\u001b[0m \u001b[0mprint\u001b[0m\u001b[1;33m(\u001b[0m\u001b[0mkilos_plucked\u001b[0m\u001b[1;33m,\u001b[0m\u001b[0mrate_per_kilo\u001b[0m\u001b[1;33m)\u001b[0m\u001b[1;33m\u001b[0m\u001b[1;33m\u001b[0m\u001b[0m\n\u001b[1;32m----> 8\u001b[1;33m \u001b[0mtotal_pay\u001b[0m \u001b[1;33m=\u001b[0m \u001b[1;33m(\u001b[0m\u001b[0mkilos_plucked\u001b[0m \u001b[1;33m*\u001b[0m \u001b[0mrate_per_kilo\u001b[0m\u001b[1;33m)\u001b[0m\u001b[1;33m\u001b[0m\u001b[1;33m\u001b[0m\u001b[0m\n\u001b[0m\u001b[0;32m      9\u001b[0m \u001b[0mprint\u001b[0m\u001b[1;33m(\u001b[0m\u001b[0mtotal_pay\u001b[0m\u001b[1;33m)\u001b[0m\u001b[1;33m\u001b[0m\u001b[1;33m\u001b[0m\u001b[0m\n",
      "\u001b[1;31mTypeError\u001b[0m: can't multiply sequence by non-int of type 'str'"
     ]
    }
   ],
   "source": [
    "# kilos plucked  45\n",
    "# rate of per kilo of tea 10\n",
    "# total pay = kilos plucked x rate per kilo 45*10 = 450\n",
    "# print total pay\n",
    "kilos_plucked = input(\"Enter Number of Kilos: \")\n",
    "rate_per_kilo = input(\" Enter Rate per Kilo: \")\n",
    "print(kilos_plucked,rate_per_kilo)\n",
    "total_pay = (kilos_plucked * rate_per_kilo)\n",
    "print(total_pay)"
   ]
  },
  {
   "cell_type": "markdown",
   "metadata": {},
   "source": [
    "###### You get an error because the Data type is of a string (str) and python cannot multiple strings as strings are not numbers or intergers\n"
   ]
  },
  {
   "cell_type": "code",
   "execution_count": 23,
   "metadata": {},
   "outputs": [
    {
     "data": {
      "text/plain": [
       "str"
      ]
     },
     "execution_count": 23,
     "metadata": {},
     "output_type": "execute_result"
    }
   ],
   "source": [
    "type(rate_per_kilo)"
   ]
  },
  {
   "cell_type": "markdown",
   "metadata": {},
   "source": [
    "##### All progrmaming languages have types :\n",
    "#####  1.  single numbers like 10 number can be denoted as 'int- integers'\n",
    "#####  2. decimal numbers can be dneoted as 'float'\n",
    "#####  3. Words and letters are considered as 'str-strings"
   ]
  },
  {
   "cell_type": "markdown",
   "metadata": {},
   "source": [
    "##### Since it is a mathematical equation with possibly decimals let us redo and turn this into a float"
   ]
  },
  {
   "cell_type": "code",
   "execution_count": 24,
   "metadata": {},
   "outputs": [
    {
     "name": "stdout",
     "output_type": "stream",
     "text": [
      "Enter Number of Kilos: 10\n",
      " Enter Rate per Kilo: 45\n",
      "10 45\n"
     ]
    },
    {
     "ename": "TypeError",
     "evalue": "can't multiply sequence by non-int of type 'str'",
     "output_type": "error",
     "traceback": [
      "\u001b[1;31m---------------------------------------------------------------------------\u001b[0m",
      "\u001b[1;31mTypeError\u001b[0m                                 Traceback (most recent call last)",
      "\u001b[1;32m<ipython-input-24-5cb58f721da3>\u001b[0m in \u001b[0;36m<module>\u001b[1;34m\u001b[0m\n\u001b[0;32m      6\u001b[0m \u001b[0mrate_per_kilo\u001b[0m \u001b[1;33m=\u001b[0m \u001b[0minput\u001b[0m\u001b[1;33m(\u001b[0m\u001b[1;34m\" Enter Rate per Kilo: \"\u001b[0m\u001b[1;33m)\u001b[0m\u001b[1;33m\u001b[0m\u001b[1;33m\u001b[0m\u001b[0m\n\u001b[0;32m      7\u001b[0m \u001b[0mprint\u001b[0m\u001b[1;33m(\u001b[0m\u001b[0mkilos_plucked\u001b[0m\u001b[1;33m,\u001b[0m\u001b[0mrate_per_kilo\u001b[0m\u001b[1;33m)\u001b[0m\u001b[1;33m\u001b[0m\u001b[1;33m\u001b[0m\u001b[0m\n\u001b[1;32m----> 8\u001b[1;33m \u001b[0mtotal_pay\u001b[0m \u001b[1;33m=\u001b[0m \u001b[0mfloat\u001b[0m\u001b[1;33m(\u001b[0m\u001b[0mkilos_plucked\u001b[0m \u001b[1;33m*\u001b[0m \u001b[0mrate_per_kilo\u001b[0m\u001b[1;33m)\u001b[0m\u001b[1;33m\u001b[0m\u001b[1;33m\u001b[0m\u001b[0m\n\u001b[0m\u001b[0;32m      9\u001b[0m \u001b[0mprint\u001b[0m\u001b[1;33m(\u001b[0m\u001b[0mtotal_pay\u001b[0m\u001b[1;33m)\u001b[0m\u001b[1;33m\u001b[0m\u001b[1;33m\u001b[0m\u001b[0m\n",
      "\u001b[1;31mTypeError\u001b[0m: can't multiply sequence by non-int of type 'str'"
     ]
    }
   ],
   "source": [
    "# kilos plucked  45\n",
    "# rate of per kilo of tea 10\n",
    "# total pay = kilos plucked x rate per kilo 45*10 = 450\n",
    "# print total pay\n",
    "kilos_plucked = input(\"Enter Number of Kilos: \")\n",
    "rate_per_kilo = input(\" Enter Rate per Kilo: \")\n",
    "print(kilos_plucked,rate_per_kilo)\n",
    "total_pay = float(kilos_plucked * rate_per_kilo)\n",
    "print(total_pay)"
   ]
  },
  {
   "cell_type": "markdown",
   "metadata": {},
   "source": [
    "##### still and error we needed to intiailise it at the input and  input a number and store it into the varible as a float "
   ]
  },
  {
   "cell_type": "code",
   "execution_count": 25,
   "metadata": {},
   "outputs": [
    {
     "name": "stdout",
     "output_type": "stream",
     "text": [
      "Enter Number of Kilos: 10\n",
      " Enter Rate per Kilo: 45\n",
      "10.0 45.0\n",
      "450.0\n"
     ]
    }
   ],
   "source": [
    "# kilos plucked  45\n",
    "# rate of per kilo of tea 10\n",
    "# total pay = kilos plucked x rate per kilo 45*10 = 450\n",
    "# print total pay\n",
    "kilos_plucked = float( input(\"Enter Number of Kilos: \"))\n",
    "rate_per_kilo = float( input(\" Enter Rate per Kilo: \"))\n",
    "print(kilos_plucked,rate_per_kilo)\n",
    "total_pay = float(kilos_plucked * rate_per_kilo)\n",
    "print(total_pay)"
   ]
  },
  {
   "cell_type": "markdown",
   "metadata": {},
   "source": [
    "###### So let us make it neater and more understandable that you are the one whom plucked and this is your pay"
   ]
  },
  {
   "cell_type": "code",
   "execution_count": 27,
   "metadata": {},
   "outputs": [
    {
     "name": "stdout",
     "output_type": "stream",
     "text": [
      "Enter Number of Kilos: 45\n",
      " Enter Rate per Kilo: 10\n",
      "45.0 10.0\n",
      "name total pay: 450.0\n"
     ]
    }
   ],
   "source": [
    "# kilos plucked  45\n",
    "# rate of per kilo of tea 10\n",
    "# total pay = kilos plucked x rate per kilo 45*10 = 450\n",
    "# print total pay\n",
    "kilos_plucked = float( input(\"Enter Number of Kilos: \"))\n",
    "rate_per_kilo = float( input(\" Enter Rate per Kilo: \"))\n",
    "print(kilos_plucked,rate_per_kilo)\n",
    "total_pay = float(kilos_plucked * rate_per_kilo)\n",
    "print(\"jina\",\"total pay:\",total_pay)"
   ]
  },
  {
   "cell_type": "markdown",
   "metadata": {},
   "source": [
    "##### So my name has not been input cause I blocked it out earlier lets put this all in one block of code"
   ]
  },
  {
   "cell_type": "code",
   "execution_count": 29,
   "metadata": {},
   "outputs": [
    {
     "name": "stdout",
     "output_type": "stream",
     "text": [
      " Enter your name : Silas\n",
      " Hello Silas\n",
      "Silas how much did you pick this month\n",
      "Enter Number of Kilos: 45\n",
      " Enter Rate per Kilo: 10\n",
      "45.0 10.0\n",
      "Silas total pay: 450.0\n"
     ]
    }
   ],
   "source": [
    "name = input(\" Enter your name : \")\n",
    "print(\" Hello\", name) \n",
    "print(name,\"how much did you pick this month\")\n",
    "# kilos plucked  45\n",
    "# rate of per kilo of tea 10\n",
    "# total pay = kilos plucked x rate per kilo 45*10 = 450\n",
    "# print total pay\n",
    "kilos_plucked = float( input(\"Enter Number of Kilos: \"))\n",
    "rate_per_kilo = float( input(\" Enter Rate per Kilo: \"))\n",
    "print(kilos_plucked,rate_per_kilo)\n",
    "total_pay = float(kilos_plucked * rate_per_kilo)\n",
    "print(jina,\"total pay:\",total_pay)"
   ]
  },
  {
   "cell_type": "markdown",
   "metadata": {},
   "source": [
    "##### To make put it in the right decimal format we need to add %(in coming code). two decimal places which is represented by Kshs %.2f instead of a comma you replace it with a % to pass it in"
   ]
  },
  {
   "cell_type": "code",
   "execution_count": 34,
   "metadata": {},
   "outputs": [
    {
     "name": "stdout",
     "output_type": "stream",
     "text": [
      " Enter your name : Silas\n",
      " Hello Silas\n",
      "Silas how much did you pick this month\n",
      "Enter Number of Kilos: 45\n",
      " Enter Rate per Kilo: 10\n",
      "45.0 10.0\n",
      "Silas total pay: Kshs 450.00\n"
     ]
    }
   ],
   "source": [
    "jina = input(\" Enter your name : \")\n",
    "print(\" Hello\", jina) \n",
    "print(jina,\"how much did you pick this month\")\n",
    "# kilos plucked  45\n",
    "# rate of per kilo of tea 10\n",
    "# total pay = kilos plucked x rate per kilo 45*10 = 450\n",
    "# print total pay\n",
    "kilos_plucked = float( input(\"Enter Number of Kilos: \"))\n",
    "rate_per_kilo = float( input(\" Enter Rate per Kilo: \"))\n",
    "print(kilos_plucked,rate_per_kilo)\n",
    "total_pay = float(kilos_plucked * rate_per_kilo)\n",
    "print(jina,\"total pay: Kshs %.2f\" % total_pay)"
   ]
  },
  {
   "cell_type": "markdown",
   "metadata": {},
   "source": [
    "##### Over View"
   ]
  },
  {
   "cell_type": "code",
   "execution_count": 35,
   "metadata": {},
   "outputs": [],
   "source": [
    "jina = \"Macharia\"\n",
    "age = 43\n",
    "rate_per_kilo = 10"
   ]
  },
  {
   "cell_type": "code",
   "execution_count": 36,
   "metadata": {},
   "outputs": [
    {
     "data": {
      "text/plain": [
       "str"
      ]
     },
     "execution_count": 36,
     "metadata": {},
     "output_type": "execute_result"
    }
   ],
   "source": [
    "#what is the type of name?\n",
    "type(jina)"
   ]
  },
  {
   "cell_type": "code",
   "execution_count": 37,
   "metadata": {},
   "outputs": [
    {
     "data": {
      "text/plain": [
       "int"
      ]
     },
     "execution_count": 37,
     "metadata": {},
     "output_type": "execute_result"
    }
   ],
   "source": [
    "#what is the type  of age?\n",
    "type(age)"
   ]
  },
  {
   "cell_type": "code",
   "execution_count": 40,
   "metadata": {},
   "outputs": [
    {
     "data": {
      "text/plain": [
       "int"
      ]
     },
     "execution_count": 40,
     "metadata": {},
     "output_type": "execute_result"
    }
   ],
   "source": [
    "type(rate_per_kilo)"
   ]
  },
  {
   "cell_type": "markdown",
   "metadata": {},
   "source": [
    "##### Conditional Statements and Iterations"
   ]
  },
  {
   "cell_type": "markdown",
   "metadata": {},
   "source": [
    "###### At Farm Valleydum we have people whom work in the following catergories:\n",
    "###### 1. Tea plucking that get kshs 10 per kilo\n",
    "###### 2. Tea weeding at a day rate  of   Kshs 310\n",
    "###### 3. Tea Prunning that is Kshs 7 per bush\n",
    "###### 4. Coffee picking which is Kshs 7 per kilo\n",
    "###### 5. Coffee weeding at a day rate  of   Kshs 310\n",
    "###### 6. Coffee prunning which is Kshs 12 per bush \n",
    "###### 7. Saturday's for Tea, half day rate Kshs 155  \n",
    "###### 8. Saturday's for Coffee, half day rate Kshs 155"
   ]
  },
  {
   "cell_type": "code",
   "execution_count": 54,
   "metadata": {},
   "outputs": [
    {
     "ename": "SyntaxError",
     "evalue": "invalid syntax (<ipython-input-54-34676f12cafa>, line 29)",
     "output_type": "error",
     "traceback": [
      "\u001b[1;36m  File \u001b[1;32m\"<ipython-input-54-34676f12cafa>\"\u001b[1;36m, line \u001b[1;32m29\u001b[0m\n\u001b[1;33m    else work_area >= 9:\u001b[0m\n\u001b[1;37m                 ^\u001b[0m\n\u001b[1;31mSyntaxError\u001b[0m\u001b[1;31m:\u001b[0m invalid syntax\n"
     ]
    }
   ],
   "source": [
    "try:\n",
    "    print(jina, \"Daily Income \")\n",
    "    work_area = int(input(\"Enter work area: \") )\n",
    "    if work_area >0:\n",
    "        if work_area == 1:\n",
    "            tea_kilos_plucked = float( input(\"Enter Number of Tea Kilos: \"))\n",
    "            pay_4_tea_plucked = float(tea_kilos_plucked * 10)\n",
    "        elif work_area == 2:\n",
    "            tea_weeding = float(input(\"Enter day worked as 1:  \"))\n",
    "            pay_4_tea_weeding = float( tea_weeding * 310)\n",
    "        elif work_area == 3:\n",
    "            number_of_tea_bushes_prunned = float(input(\"Enter bushes prunned: \") )\n",
    "            pay_4_tea_prunning = float( number_of_tea_bushes_prunned * 7 )\n",
    "        elif work_area == 4:\n",
    "            coffee_kilos_plucked = float( input(\"Enter Number of coffee Kilos: \"))\n",
    "            pay_4_coffee_plucked = float( coffee_kilos_plucked * 7)\n",
    "        elif work_area == 5:\n",
    "            coffee_weeding = float(input(\"Enter day worked as 1: \"))\n",
    "            pay_4_coffee_weeding = float( coffee_weeding * 310)  \n",
    "        elif work_area == 6:\n",
    "            coffee_prunning = float(input(\"Enter day worked as 1: \"))\n",
    "            pay_4_coffee_prunning = float( coffee_prunning * 12)\n",
    "        elif work_area == 7:\n",
    "            tea_weeding_saturday = float(input(\"Enter day worked as 1: \"))\n",
    "            pay_4_tea_weeding_saturday = float( tea_weeding_saturday * 155)\n",
    "        elif work_area == 8:\n",
    "            coffee_weeding_saturday = float(input(\"Enter day worked as 1: \"))\n",
    "            pay_4_coffee_weeding_saturday = float( coffee_weeding_saturday * 155)    \n",
    "    else work_area >= 9:\n",
    "        print(\"Invalid Options Selected.\")\n",
    "except ValueError:\n",
    "    print(\"Invalid Input\")\n",
    "    \n",
    "\n",
    "daily_income = pay_4_tea_plucked  + pay_4_tea_weeding + pay_4_tea_prunning + pay_4_coffee_plucked + pay_4_coffee_weeding + pay_4_coffee_prunning + pay_4_tea_weeding_saturday + pay_4_coffee_weeding_saturday\n",
    "\n",
    "print(jina, daily_income)\n"
   ]
  },
  {
   "cell_type": "markdown",
   "metadata": {},
   "source": [
    "###### Make it neater define these as functions that you can use later in code easily and multiple times in the code below"
   ]
  },
  {
   "cell_type": "code",
   "execution_count": null,
   "metadata": {},
   "outputs": [],
   "source": [
    "def tea_plucked(tea_kilos_plucked):\n",
    "    pay_4_tea_plucked = (tea_kilos_plucked * 10)\n",
    "    return  pay_4_tea_plucked\n",
    "\n",
    "def tea_weeding(one_day_weeding)\n",
    "    pay_4_tea_weeding = (one_day_weeding * 310)\n",
    "    return pay_4_tea_weeding\n",
    "\n",
    "def tea_prunning(number_of_tea_bushes_prunned)\n",
    "    pay_4_tea_prunning = (number_of_tea_bushes_prunned * 310)\n",
    "    return pay_4_tea_prunning\n",
    "\n",
    "def coffee_plucked( coffee_kilos_plucked)\n",
    "    pay_4_coffee_weeding = ( coffee_kilos_plucked * 7)\n",
    "    return  pay_4_coffee_weeding\n",
    "\n",
    "def coffee_weeding(one_day_weeding)\n",
    "   pay_4_coffee_weeding = (one_day_weeding * 310)\n",
    "    return pay_4_coffee_weeding\n",
    "\n",
    "def coffee_prunning(number_of_coffee_bushes_prunned)\n",
    "    pay_4_coffee_prunning = (number_of_coffee_bushes_prunned * 310)\n",
    "    return pay_4_coffee_prunning\n",
    "\n",
    "def tea_wedding_saturday(half_day_weeding)\n",
    "    pay_4_tea_weeding_saturday = (half_day_weeding* 155)\n",
    "    return pay_4_tea_weeding_saturday\n",
    "\n",
    "def coffee_weeding_saturday(half_day_weeding) \n",
    "    pay_4_coffee_weeding_saturday = (half_day_weeding * 155)\n",
    "    return pay_4_coffee_weeding_saturday"
   ]
  },
  {
   "cell_type": "code",
   "execution_count": null,
   "metadata": {},
   "outputs": [],
   "source": [
    "tea_plucked(40)"
   ]
  },
  {
   "cell_type": "code",
   "execution_count": 61,
   "metadata": {},
   "outputs": [
    {
     "name": "stdout",
     "output_type": "stream",
     "text": [
      "Enter Number of Tea Kilos: 1\n",
      "Enter day worked as 1:  1\n",
      "Enter bushes prunned: 1\n",
      "Enter day worked weekend (tea) as 1: 1\n",
      "Enter Number of coffee Kilos: 1\n",
      "Enter day worked coffee weeding as 1: 1\n",
      "Enter day worked coffee prunning as 1: 1\n",
      "Enter day worked weekend (coffee) as 1: 1\n"
     ]
    },
    {
     "data": {
      "text/plain": [
       "155.0"
      ]
     },
     "execution_count": 61,
     "metadata": {},
     "output_type": "execute_result"
    }
   ],
   "source": [
    "tea_kilos_plucked = float( input(\"Enter Number of Tea Kilos: \"))\n",
    "def tea_plucked(tea_kilos_plucked):\n",
    "    pay_4_tea_plucked = (tea_kilos_plucked * 10)\n",
    "    return  pay_4_tea_plucked\n",
    "#tea_plucked(input(\"Enter Number of Tea Kilos: \"))\n",
    "tea_plucked(tea_kilos_plucked)\n",
    "\n",
    "one_day_weeding = float(input(\"Enter day worked as 1:  \"))\n",
    "def tea_weeding(one_day_weeding):\n",
    "    pay_4_tea_weeding = (one_day_weeding * 310)\n",
    "    return pay_4_tea_weeding\n",
    "tea_weeding(one_day_weeding)\n",
    "\n",
    "number_of_tea_bushes_prunned = float(input(\"Enter bushes prunned: \") )\n",
    "def tea_prunning(number_of_tea_bushes_prunned):\n",
    "    pay_4_tea_prunning = (number_of_tea_bushes_prunned * 310)\n",
    "    return pay_4_tea_prunning\n",
    "tea_prunning(number_of_tea_bushes_prunned)\n",
    "\n",
    "tea_half_weeding_saturday = float(input(\"Enter day worked weekend (tea) as 1: \") )\n",
    "def tea_wedding_saturday(tea_half_weeding_saturday):\n",
    "    pay_4_tea_weeding_saturday = (tea_half_weeding_saturday * 155)\n",
    "    return pay_4_tea_weeding_saturday\n",
    "tea_wedding_saturday(tea_half_weeding_saturday)\n",
    "\n",
    "coffee_kilos_plucked = float( input(\"Enter Number of coffee Kilos: \"))\n",
    "def coffee_plucked( coffee_kilos_plucked):\n",
    "    pay_4_coffee_weeding = ( coffee_kilos_plucked * 7)\n",
    "    return  pay_4_coffee_weeding\n",
    "coffee_plucked(coffee_kilos_plucked)\n",
    "\n",
    "coffee_weeding_no = float(input(\"Enter day worked coffee weeding as 1: \"))\n",
    "def coffee_weeding(coffee_weeding_no):\n",
    "    pay_4_coffee_weeding = (coffee_weeding_no * 310)\n",
    "    return pay_4_coffee_weeding\n",
    "coffee_weeding(coffee_weeding_no)\n",
    "\n",
    "coffee_prunning_no = float(input(\"Enter day worked coffee prunning as 1: \"))\n",
    "def coffee_prunning(coffee_prunning_no):\n",
    "    pay_4_coffee_prunning = (coffee_prunning_no * 310)\n",
    "    return pay_4_coffee_prunning\n",
    "coffee_prunning(coffee_prunning_no)\n",
    "\n",
    "coffee_weeding_saturday_total = float(input(\"Enter day worked weekend (coffee) as 1: \"))\n",
    "def coffee_weeding_saturday(coffee_weeding_saturday_total):\n",
    "    pay_4_coffee_weeding_saturday = (coffee_weeding_saturday_total * 155)\n",
    "    return pay_4_coffee_weeding_saturday\n",
    "coffee_weeding_saturday(coffee_weeding_saturday_total)"
   ]
  },
  {
   "cell_type": "markdown",
   "metadata": {},
   "source": [
    "# coffee_weeding(10)"
   ]
  },
  {
   "cell_type": "markdown",
   "metadata": {},
   "source": [
    "###### staff work for 26 days a month\n",
    "###### we will choose thework that was done in July\n",
    "###### we need date time  function to recognise the days of the week and working days and calculate the days that have been \n",
    "###### worked manual entry calling the previous options for the month\n",
    "###### then we calculate the total earned for the month"
   ]
  },
  {
   "cell_type": "code",
   "execution_count": 18,
   "metadata": {
    "scrolled": true
   },
   "outputs": [
    {
     "name": "stdout",
     "output_type": "stream",
     "text": [
      "Please input cash crop Tea(1) or Coffee(2)2\n",
      "Enter Number of coffee Kilos: 1\n",
      "7.0\n",
      "Enter day worked coffee weeding as 1: 1\n",
      "310.0\n",
      "Enter day worked coffee prunning as 1: 1\n",
      "310.0\n",
      "Total Coffee Cost  627.0\n"
     ]
    }
   ],
   "source": [
    "#from calendar import monthrange\n",
    "#year = 2019\n",
    "#month = 7\n",
    "\n",
    "z = int(input(\"Please input cash crop Tea(1) or Coffee(2)\"))\n",
    "if z == 1:\n",
    "    for i in range (7):\n",
    "       if i == 1:\n",
    "            tea_kilos_plucked = float( input(\"Enter Number of Tea Kilos: \"))\n",
    "            tea_plucked_total = tea_plucked(tea_kilos_plucked)\n",
    "            print(tea_plucked_total)\n",
    "       elif i == 2:\n",
    "            one_day_weeding = float(input(\"Enter day worked as 1:  \"))\n",
    "            tea_weeding = (one_day_weeding * 310)\n",
    "            print(tea_weeding) \n",
    "       elif i == 3:\n",
    "            number_of_tea_bushes_prunned = float(input(\"Enter bushes prunned: \") )\n",
    "            tea_pruned = tea_prunning(number_of_tea_bushes_prunned)\n",
    "            print(tea_pruned)\n",
    "            Total_tea = tea_plucked_total + tea_pruned +tea_weeding\n",
    "            print('Total Tea Cost  ' + str(Total_tea) )\n",
    "            print(i)\n",
    "            #continue\n",
    "elif z == 2:\n",
    "    # print(\"no coffee\")\n",
    "    for i in range (7):\n",
    "        if i == 1:\n",
    "            coffee_kilos_plucked = float( input(\"Enter Number of coffee Kilos: \"))\n",
    "            coffee_plucked_total = coffee_plucked(coffee_kilos_plucked)\n",
    "            print(coffee_plucked_total)\n",
    "        elif i == 2:\n",
    "            #Please rethink this part because weeding or prunning could take more than 1 day \n",
    "            coffee_weeding_no = float(input(\"Enter day worked coffee weeding as 1: \"))\n",
    "            coffee_weeding_total = coffee_weeding(coffee_weeding_no)\n",
    "            print(coffee_weeding_total)\n",
    "        elif i == 3:\n",
    "            coffee_prunning_no = float(input(\"Enter day worked coffee prunning as 1: \"))\n",
    "            coffee_prunning_total = coffee_prunning(coffee_prunning_no)\n",
    "            print(coffee_prunning_total)\n",
    "            Total_coffee = coffee_plucked_total + coffee_weeding_total + coffee_prunning_total\n",
    "            print('Total Coffee Cost  ' + str(Total_coffee) )\n",
    "else:\n",
    "    print(\"Please select a cash crop\")\n",
    "    "
   ]
  },
  {
   "cell_type": "code",
   "execution_count": 62,
   "metadata": {
    "scrolled": true
   },
   "outputs": [
    {
     "name": "stdout",
     "output_type": "stream",
     "text": [
      "Monday\n",
      "Please input cash crop Tea(1) or Coffee(2)1\n",
      "Enter Number of Tea Kilos: 1\n",
      "10.0\n",
      "Enter day worked as 1:  1\n",
      "310.0\n",
      "Enter bushes prunned: 1\n",
      "310.0\n",
      "Total Tea Cost  630.0\n",
      "Tuesday\n",
      "Please input cash crop Tea(1) or Coffee(2)1\n",
      "Enter Number of Tea Kilos: 1\n",
      "10.0\n",
      "Enter day worked as 1:  1\n",
      "310.0\n",
      "Enter bushes prunned: 1\n",
      "310.0\n",
      "Total Tea Cost  630.0\n",
      "Wednesday\n",
      "Please input cash crop Tea(1) or Coffee(2)1\n",
      "Enter Number of Tea Kilos: 1\n",
      "10.0\n",
      "Enter day worked as 1:  1\n",
      "310.0\n",
      "Enter bushes prunned: 1\n",
      "310.0\n",
      "Total Tea Cost  630.0\n",
      "Thursday\n",
      "Please input cash crop Tea(1) or Coffee(2)1\n",
      "Enter Number of Tea Kilos: 1\n",
      "10.0\n",
      "Enter day worked as 1:  1\n",
      "310.0\n",
      "Enter bushes prunned: 1\n",
      "310.0\n",
      "Total Tea Cost  630.0\n",
      "Friday\n",
      "Please input cash crop Tea(1) or Coffee(2)1\n",
      "Enter Number of Tea Kilos: 1\n",
      "10.0\n",
      "Enter day worked as 1:  1\n",
      "310.0\n",
      "Enter bushes prunned: 1\n",
      "310.0\n",
      "Total Tea Cost  630.0\n",
      "Saturday\n",
      "Please input cash crop Tea(1) or Coffee(2)1\n",
      "Enter day worked (tea) weekend as 1: 1\n",
      "155.0\n",
      "Total Tea Cost  155.0\n",
      "5\n"
     ]
    }
   ],
   "source": [
    "for i in range(6):\n",
    "     if i == 0:\n",
    "        print(\"Monday\")\n",
    "        z = int(input(\"Please input cash crop Tea(1) or Coffee(2)\"))\n",
    "        if z == 1:\n",
    "                tea_kilos_plucked = float( input(\"Enter Number of Tea Kilos: \"))\n",
    "                tea_plucked_total = tea_plucked(tea_kilos_plucked)\n",
    "                print(tea_plucked_total)\n",
    "                \n",
    "                one_day_weeding = float(input(\"Enter day worked as 1:  \"))\n",
    "                tea_weeding = (one_day_weeding * 310)\n",
    "                print(tea_weeding)\n",
    "                \n",
    "                number_of_tea_bushes_prunned = float(input(\"Enter bushes prunned: \") )\n",
    "                tea_pruned = tea_prunning(number_of_tea_bushes_prunned)\n",
    "                print(tea_pruned)\n",
    "                \n",
    "                Total_tea = tea_plucked_total + tea_pruned +tea_weeding\n",
    "                print('Total Tea Cost  ' + str(Total_tea) )\n",
    "        elif z == 2:\n",
    "                coffee_kilos_plucked = float( input(\"Enter Number of coffee Kilos: \"))\n",
    "                coffee_plucked_total = coffee_plucked(coffee_kilos_plucked)\n",
    "                print(coffee_plucked_total)\n",
    "                \n",
    "                coffee_weeding_no = float(input(\"Enter day worked coffee weeding as 1: \"))\n",
    "                coffee_weeding_total = coffee_weeding(coffee_weeding_no)\n",
    "                print(coffee_weeding_total)\n",
    "                \n",
    "                coffee_prunning_no = float(input(\"Enter day worked coffee prunning as 1: \"))\n",
    "                coffee_prunning_total = coffee_prunning(coffee_prunning_no)\n",
    "                print(coffee_prunning_total)\n",
    "                Total_coffee = coffee_plucked_total + coffee_weeding_total + coffee_prunning_total\n",
    "                print('Total Coffee Cost  ' + str(Total_coffee) )\n",
    "                \n",
    "                \n",
    "     elif i == 1:\n",
    "        print(\"Tuesday\")\n",
    "        z = int(input(\"Please input cash crop Tea(1) or Coffee(2)\"))\n",
    "        if z == 1:\n",
    "                tea_kilos_plucked = float( input(\"Enter Number of Tea Kilos: \"))\n",
    "                tea_plucked_total = tea_plucked(tea_kilos_plucked)\n",
    "                print(tea_plucked_total)\n",
    "                \n",
    "                one_day_weeding = float(input(\"Enter day worked as 1:  \"))\n",
    "                tea_weeding = (one_day_weeding * 310)\n",
    "                print(tea_weeding)\n",
    "                \n",
    "                number_of_tea_bushes_prunned = float(input(\"Enter bushes prunned: \") )\n",
    "                tea_pruned = tea_prunning(number_of_tea_bushes_prunned)\n",
    "                print(tea_pruned)\n",
    "                \n",
    "                Total_tea = tea_plucked_total + tea_pruned +tea_weeding\n",
    "                print('Total Tea Cost  ' + str(Total_tea) )\n",
    "        elif z == 2:\n",
    "                coffee_kilos_plucked = float( input(\"Enter Number of coffee Kilos: \"))\n",
    "                coffee_plucked_total = coffee_plucked(coffee_kilos_plucked)\n",
    "                print(coffee_plucked_total)\n",
    "                \n",
    "                coffee_weeding_no = float(input(\"Enter day worked coffee weeding as 1: \"))\n",
    "                coffee_weeding_total = coffee_weeding(coffee_weeding_no)\n",
    "                print(coffee_weeding_total)\n",
    "                \n",
    "                coffee_prunning_no = float(input(\"Enter day worked coffee prunning as 1: \"))\n",
    "                coffee_prunning_total = coffee_prunning(coffee_prunning_no)\n",
    "                print(coffee_prunning_total)\n",
    "                Total_coffee = coffee_plucked_total + coffee_weeding_total + coffee_prunning_total\n",
    "                print('Total Coffee Cost  ' + str(Total_coffee) )\n",
    "     elif i == 2:\n",
    "        print(\"Wednesday\")\n",
    "        z = int(input(\"Please input cash crop Tea(1) or Coffee(2)\"))\n",
    "        if z == 1:\n",
    "                tea_kilos_plucked = float( input(\"Enter Number of Tea Kilos: \"))\n",
    "                tea_plucked_total = tea_plucked(tea_kilos_plucked)\n",
    "                print(tea_plucked_total)\n",
    "                \n",
    "                one_day_weeding = float(input(\"Enter day worked as 1:  \"))\n",
    "                tea_weeding = (one_day_weeding * 310)\n",
    "                print(tea_weeding)\n",
    "                \n",
    "                number_of_tea_bushes_prunned = float(input(\"Enter bushes prunned: \") )\n",
    "                tea_pruned = tea_prunning(number_of_tea_bushes_prunned)\n",
    "                print(tea_pruned)\n",
    "                \n",
    "                Total_tea = tea_plucked_total + tea_pruned +tea_weeding\n",
    "                print('Total Tea Cost  ' + str(Total_tea) )\n",
    "        elif z == 2:\n",
    "                coffee_kilos_plucked = float( input(\"Enter Number of coffee Kilos: \"))\n",
    "                coffee_plucked_total = coffee_plucked(coffee_kilos_plucked)\n",
    "                print(coffee_plucked_total)\n",
    "                \n",
    "                coffee_weeding_no = float(input(\"Enter day worked coffee weeding as 1: \"))\n",
    "                coffee_weeding_total = coffee_weeding(coffee_weeding_no)\n",
    "                print(coffee_weeding_total)\n",
    "                \n",
    "                coffee_prunning_no = float(input(\"Enter day worked coffee prunning as 1: \"))\n",
    "                coffee_prunning_total = coffee_prunning(coffee_prunning_no)\n",
    "                print(coffee_prunning_total)\n",
    "                Total_coffee = coffee_plucked_total + coffee_weeding_total + coffee_prunning_total\n",
    "                print('Total Coffee Cost  ' + str(Total_coffee) )\n",
    "     elif i == 3:\n",
    "        print(\"Thursday\")\n",
    "        z = int(input(\"Please input cash crop Tea(1) or Coffee(2)\"))\n",
    "        if z == 1:\n",
    "                tea_kilos_plucked = float( input(\"Enter Number of Tea Kilos: \"))\n",
    "                tea_plucked_total = tea_plucked(tea_kilos_plucked)\n",
    "                print(tea_plucked_total)\n",
    "                \n",
    "                one_day_weeding = float(input(\"Enter day worked as 1:  \"))\n",
    "                tea_weeding = (one_day_weeding * 310)\n",
    "                print(tea_weeding)\n",
    "                \n",
    "                number_of_tea_bushes_prunned = float(input(\"Enter bushes prunned: \"))\n",
    "                tea_pruned = tea_prunning(number_of_tea_bushes_prunned)\n",
    "                print(tea_pruned)\n",
    "                \n",
    "                Total_tea = tea_plucked_total + tea_pruned +tea_weeding\n",
    "                print('Total Tea Cost  ' + str(Total_tea) )\n",
    "        elif z == 2:\n",
    "                coffee_kilos_plucked = float( input(\"Enter Number of coffee Kilos: \"))\n",
    "                coffee_plucked_total = coffee_plucked(coffee_kilos_plucked)\n",
    "                print(coffee_plucked_total)\n",
    "                \n",
    "                coffee_weeding_no = float(input(\"Enter day worked coffee weeding as 1: \"))\n",
    "                coffee_weeding_total = coffee_weeding(coffee_weeding_no)\n",
    "                print(coffee_weeding_total)\n",
    "                \n",
    "                coffee_prunning_no = float(input(\"Enter day worked coffee prunning as 1: \"))\n",
    "                coffee_prunning_total = coffee_prunning(coffee_prunning_no)\n",
    "                print(coffee_prunning_total)\n",
    "                Total_coffee = coffee_plucked_total + coffee_weeding_total + coffee_prunning_total\n",
    "                print('Total Coffee Cost  ' + str(Total_coffee) )\n",
    "     elif i == 4:\n",
    "        print(\"Friday\")\n",
    "        z = int(input(\"Please input cash crop Tea(1) or Coffee(2)\"))\n",
    "        if z == 1:\n",
    "                tea_kilos_plucked = float( input(\"Enter Number of Tea Kilos: \"))\n",
    "                tea_plucked_total = tea_plucked(tea_kilos_plucked)\n",
    "                print(tea_plucked_total)\n",
    "                \n",
    "                one_day_weeding = float(input(\"Enter day worked as 1:  \"))\n",
    "                tea_weeding = (one_day_weeding * 310)\n",
    "                print(tea_weeding)\n",
    "                \n",
    "                number_of_tea_bushes_prunned = float(input(\"Enter bushes prunned: \") )\n",
    "                tea_pruned = tea_prunning(number_of_tea_bushes_prunned)\n",
    "                print(tea_pruned)\n",
    "                \n",
    "                Total_tea = tea_plucked_total + tea_pruned +tea_weeding\n",
    "                print('Total Tea Cost  ' + str(Total_tea) )\n",
    "        elif z == 2:\n",
    "                coffee_kilos_plucked = float( input(\"Enter Number of coffee Kilos: \"))\n",
    "                coffee_plucked_total = coffee_plucked(coffee_kilos_plucked)\n",
    "                print(coffee_plucked_total)\n",
    "                \n",
    "                coffee_weeding_no = float(input(\"Enter day worked coffee weeding as 1: \"))\n",
    "                coffee_weeding_total = coffee_weeding(coffee_weeding_no)\n",
    "                print(coffee_weeding_total)\n",
    "                \n",
    "                coffee_prunning_no = float(input(\"Enter day worked coffee prunning as 1: \"))\n",
    "                coffee_prunning_total = coffee_prunning(coffee_prunning_no)\n",
    "                print(coffee_prunning_total)\n",
    "                Total_coffee = coffee_plucked_total + coffee_weeding_total + coffee_prunning_total\n",
    "                print('Total Coffee Cost  ' + str(Total_coffee) )\n",
    "     elif i == 5:\n",
    "        print(\"Saturday\")     \n",
    "        z = int(input(\"Please input cash crop Tea(1) or Coffee(2)\"))\n",
    "        if z == 1:\n",
    "                tea_half_weeding_saturday = float(input(\"Enter day worked (tea) weekend as 1: \") )\n",
    "                tea_plucked_total = tea_wedding_saturday(tea_half_weeding_saturday)\n",
    "                print(tea_plucked_total)\n",
    "                Total_tea = tea_plucked_total\n",
    "                print('Total Tea Cost  ' + str(Total_tea) )\n",
    "        elif z == 2:\n",
    "                coffee_weeding_saturday_total = float(input(\"Enter day worked weekend (coffee) as 1: \"))\n",
    "                coffee_weeding_total = coffee_weeding_saturday(coffee_weeding_saturday_total)\n",
    "                print(coffee_plucked_total)\n",
    "                Total_coffee = coffee_plucked_total\n",
    "                print('Total Coffee Cost  ' + str(Total_coffee) )\n",
    "            \n",
    "     else:\n",
    "        print(\"none\")\n",
    "        break\n",
    "print(i)\n"
   ]
  },
  {
   "cell_type": "markdown",
   "metadata": {},
   "source": [
    "1# The worker could have a wife also working under him and his account this is how he can receive funds in his account"
   ]
  },
  {
   "cell_type": "code",
   "execution_count": 63,
   "metadata": {},
   "outputs": [
    {
     "name": "stdout",
     "output_type": "stream",
     "text": [
      "Monday\n",
      "Tuesday\n",
      "Wednesday\n",
      "Thursday\n",
      "Friday\n",
      "Saturday\n",
      "5\n"
     ]
    }
   ],
   "source": [
    "for i in range(6):\n",
    "     if i == 0:\n",
    "        print(\"Monday\")      \n",
    "     elif i == 1:\n",
    "        print(\"Tuesday\")\n",
    "     elif i == 2:\n",
    "        print(\"Wednesday\")\n",
    "     elif i == 3:\n",
    "        print(\"Thursday\")\n",
    "     elif i == 4:\n",
    "        print(\"Friday\")\n",
    "     elif i == 5:\n",
    "        print(\"Saturday\")                \n",
    "     else:\n",
    "        print(\"none\")\n",
    "        break\n",
    "print(i)\n"
   ]
  },
  {
   "cell_type": "markdown",
   "metadata": {},
   "source": [
    "Adding conditional statement for coffee or tea"
   ]
  },
  {
   "cell_type": "code",
   "execution_count": 70,
   "metadata": {},
   "outputs": [
    {
     "name": "stdout",
     "output_type": "stream",
     "text": [
      "Monday\n",
      "Please input cash crop Tea(1) or Coffee(2)2\n",
      "coffee section\n"
     ]
    }
   ],
   "source": [
    "for i in range(6):\n",
    "     if i == 0:\n",
    "        print(\"Monday\")\n",
    "        z = int(input(\"Please input cash crop Tea(1) or Coffee(2)\"))\n",
    "        if z == 1:\n",
    "                #a = \"Plucked\"\n",
    "                #b = \"Weeding\"\n",
    "                #c = \"Pruning\"\n",
    "                y = int(input(\"Please input cash crop activity Plucked(1) or Weeding(2) or Pruning(3)\"))\n",
    "                if y == 1:\n",
    "                    tea_kilos_plucked = float( input(\"Enter Number of Tea Kilos: \"))\n",
    "                    tea_plucked_total = tea_plucked(tea_kilos_plucked)\n",
    "                    print(tea_plucked_total)\n",
    "                elif y == 2:\n",
    "                    one_day_weeding = float(input(\"Enter day worked as 1:  \"))\n",
    "                    tea_weeding = (one_day_weeding * 310)\n",
    "                    print(tea_weeding)\n",
    "                elif y == 3:\n",
    "                    number_of_tea_bushes_prunned = float(input(\"Enter bushes prunned: \") )\n",
    "                    tea_pruned = tea_prunning(number_of_tea_bushes_prunned)\n",
    "                    print(tea_pruned)\n",
    "                    Total_tea = tea_plucked_total + tea_pruned +tea_weeding\n",
    "                    print('Total Tea Cost  ' + str(Total_tea) )\n",
    "                else:\n",
    "                    print(\"Select option\")\n",
    "                    continue\n",
    "        elif z == 2:\n",
    "                print(\"coffee section\")\n",
    "        else:\n",
    "                print(\"end\")\n",
    "    elif i == 1:\n",
    "        print(\"Tuesday\")\n",
    "        z = int(input(\"Please input cash crop Tea(1) or Coffee(2)\"))\n",
    "        if z == 1:\n",
    "                tea_kilos_plucked = float( input(\"Enter Number of Tea Kilos: \"))\n",
    "                tea_plucked_total = tea_plucked(tea_kilos_plucked)\n",
    "                print(tea_plucked_total)\n",
    "                \n",
    "                one_day_weeding = float(input(\"Enter day worked as 1:  \"))\n",
    "                tea_weeding = (one_day_weeding * 310)\n",
    "                print(tea_weeding)\n",
    "                \n",
    "                number_of_tea_bushes_prunned = float(input(\"Enter bushes prunned: \") )\n",
    "                tea_pruned = tea_prunning(number_of_tea_bushes_prunned)\n",
    "                print(tea_pruned)\n",
    "                \n",
    "                Total_tea = tea_plucked_total + tea_pruned +tea_weeding\n",
    "                print('Total Tea Cost  ' + str(Total_tea) )\n",
    "        elif z == 2:\n",
    "                coffee_kilos_plucked = float( input(\"Enter Number of coffee Kilos: \"))\n",
    "                coffee_plucked_total = coffee_plucked(coffee_kilos_plucked)\n",
    "                print(coffee_plucked_total)\n",
    "                \n",
    "                coffee_weeding_no = float(input(\"Enter day worked coffee weeding as 1: \"))\n",
    "                coffee_weeding_total = coffee_weeding(coffee_weeding_no)\n",
    "                print(coffee_weeding_total)\n",
    "                \n",
    "                coffee_prunning_no = float(input(\"Enter day worked coffee prunning as 1: \"))\n",
    "                coffee_prunning_total = coffee_prunning(coffee_prunning_no)\n",
    "                print(coffee_prunning_total)\n",
    "                Total_coffee = coffee_plucked_total + coffee_weeding_total + coffee_prunning_total\n",
    "                print('Total Coffee Cost  ' + str(Total_coffee) )\n",
    "     elif i == 2:\n",
    "        print(\"Wednesday\")\n",
    "        z = int(input(\"Please input cash crop Tea(1) or Coffee(2)\"))\n",
    "        if z == 1:\n",
    "                tea_kilos_plucked = float( input(\"Enter Number of Tea Kilos: \"))\n",
    "                tea_plucked_total = tea_plucked(tea_kilos_plucked)\n",
    "                print(tea_plucked_total)\n",
    "                \n",
    "                one_day_weeding = float(input(\"Enter day worked as 1:  \"))\n",
    "                tea_weeding = (one_day_weeding * 310)\n",
    "                print(tea_weeding)\n",
    "                \n",
    "                number_of_tea_bushes_prunned = float(input(\"Enter bushes prunned: \") )\n",
    "                tea_pruned = tea_prunning(number_of_tea_bushes_prunned)\n",
    "                print(tea_pruned)\n",
    "                \n",
    "                Total_tea = tea_plucked_total + tea_pruned +tea_weeding\n",
    "                print('Total Tea Cost  ' + str(Total_tea) )\n",
    "        elif z == 2:\n",
    "                coffee_kilos_plucked = float( input(\"Enter Number of coffee Kilos: \"))\n",
    "                coffee_plucked_total = coffee_plucked(coffee_kilos_plucked)\n",
    "                print(coffee_plucked_total)\n",
    "                \n",
    "                coffee_weeding_no = float(input(\"Enter day worked coffee weeding as 1: \"))\n",
    "                coffee_weeding_total = coffee_weeding(coffee_weeding_no)\n",
    "                print(coffee_weeding_total)\n",
    "                \n",
    "                coffee_prunning_no = float(input(\"Enter day worked coffee prunning as 1: \"))\n",
    "                coffee_prunning_total = coffee_prunning(coffee_prunning_no)\n",
    "                print(coffee_prunning_total)\n",
    "                Total_coffee = coffee_plucked_total + coffee_weeding_total + coffee_prunning_total\n",
    "                print('Total Coffee Cost  ' + str(Total_coffee) )\n",
    "     elif i == 3:\n",
    "        print(\"Thursday\")\n",
    "        z = int(input(\"Please input cash crop Tea(1) or Coffee(2)\"))\n",
    "        if z == 1:\n",
    "                tea_kilos_plucked = float( input(\"Enter Number of Tea Kilos: \"))\n",
    "                tea_plucked_total = tea_plucked(tea_kilos_plucked)\n",
    "                print(tea_plucked_total)\n",
    "                \n",
    "                one_day_weeding = float(input(\"Enter day worked as 1:  \"))\n",
    "                tea_weeding = (one_day_weeding * 310)\n",
    "                print(tea_weeding)\n",
    "                \n",
    "                number_of_tea_bushes_prunned = float(input(\"Enter bushes prunned: \"))\n",
    "                tea_pruned = tea_prunning(number_of_tea_bushes_prunned)\n",
    "                print(tea_pruned)\n",
    "                \n",
    "                Total_tea = tea_plucked_total + tea_pruned +tea_weeding\n",
    "                print('Total Tea Cost  ' + str(Total_tea) )\n",
    "        elif z == 2:\n",
    "                coffee_kilos_plucked = float( input(\"Enter Number of coffee Kilos: \"))\n",
    "                coffee_plucked_total = coffee_plucked(coffee_kilos_plucked)\n",
    "                print(coffee_plucked_total)\n",
    "                \n",
    "                coffee_weeding_no = float(input(\"Enter day worked coffee weeding as 1: \"))\n",
    "                coffee_weeding_total = coffee_weeding(coffee_weeding_no)\n",
    "                print(coffee_weeding_total)\n",
    "                \n",
    "                coffee_prunning_no = float(input(\"Enter day worked coffee prunning as 1: \"))\n",
    "                coffee_prunning_total = coffee_prunning(coffee_prunning_no)\n",
    "                print(coffee_prunning_total)\n",
    "                Total_coffee = coffee_plucked_total + coffee_weeding_total + coffee_prunning_total\n",
    "                print('Total Coffee Cost  ' + str(Total_coffee) )\n",
    "     elif i == 4:\n",
    "        print(\"Friday\")\n",
    "        z = int(input(\"Please input cash crop Tea(1) or Coffee(2)\"))\n",
    "        if z == 1:\n",
    "                tea_kilos_plucked = float( input(\"Enter Number of Tea Kilos: \"))\n",
    "                tea_plucked_total = tea_plucked(tea_kilos_plucked)\n",
    "                print(tea_plucked_total)\n",
    "                \n",
    "                one_day_weeding = float(input(\"Enter day worked as 1:  \"))\n",
    "                tea_weeding = (one_day_weeding * 310)\n",
    "                print(tea_weeding)\n",
    "                \n",
    "                number_of_tea_bushes_prunned = float(input(\"Enter bushes prunned: \") )\n",
    "                tea_pruned = tea_prunning(number_of_tea_bushes_prunned)\n",
    "                print(tea_pruned)\n",
    "                \n",
    "                Total_tea = tea_plucked_total + tea_pruned +tea_weeding\n",
    "                print('Total Tea Cost  ' + str(Total_tea) )\n",
    "        elif z == 2:\n",
    "                coffee_kilos_plucked = float( input(\"Enter Number of coffee Kilos: \"))\n",
    "                coffee_plucked_total = coffee_plucked(coffee_kilos_plucked)\n",
    "                print(coffee_plucked_total)\n",
    "                \n",
    "                coffee_weeding_no = float(input(\"Enter day worked coffee weeding as 1: \"))\n",
    "                coffee_weeding_total = coffee_weeding(coffee_weeding_no)\n",
    "                print(coffee_weeding_total)\n",
    "                \n",
    "                coffee_prunning_no = float(input(\"Enter day worked coffee prunning as 1: \"))\n",
    "                coffee_prunning_total = coffee_prunning(coffee_prunning_no)\n",
    "                print(coffee_prunning_total)\n",
    "                Total_coffee = coffee_plucked_total + coffee_weeding_total + coffee_prunning_total\n",
    "                print('Total Coffee Cost  ' + str(Total_coffee) )\n",
    "     elif i == 5:\n",
    "        print(\"Saturday\")     \n",
    "        z = int(input(\"Please input cash crop Tea(1) or Coffee(2)\"))\n",
    "        if z == 1:\n",
    "                tea_half_weeding_saturday = float(input(\"Enter day worked (tea) weekend as 1: \") )\n",
    "                tea_plucked_total = tea_wedding_saturday(tea_half_weeding_saturday)\n",
    "                print(tea_plucked_total)\n",
    "                Total_tea = tea_plucked_total\n",
    "                print('Total Tea Cost  ' + str(Total_tea) )\n",
    "        elif z == 2:\n",
    "                coffee_weeding_saturday_total = float(input(\"Enter day worked weekend (coffee) as 1: \"))\n",
    "                coffee_weeding_total = coffee_weeding_saturday(coffee_weeding_saturday_total)\n",
    "                print(coffee_plucked_total)\n",
    "                Total_coffee = coffee_plucked_total\n",
    "                print('Total Coffee Cost  ' + str(Total_coffee) )\n",
    "            \n",
    "     else:\n",
    "        print(\"none\")\n",
    "        break\n",
    "print(i)"
   ]
  },
  {
   "cell_type": "markdown",
   "metadata": {},
   "source": [
    "##### Lists the staff receives produce grown on the farm \n",
    "##### He will consume (kales, cabbage, avocados, spinach, milk, arrow roots)\n",
    "##### kales are for 3 bunches for  kshs 10\n",
    "##### cabbages for Kshs 30\n",
    "##### avocadoes for 2 pieces Kshs 30\n",
    "##### arrow roots 3 pieces for kshs 100\n",
    "##### milk kshs 20 per liter\n",
    "#####  spinach 3 bunches for kshs 10"
   ]
  },
  {
   "cell_type": "code",
   "execution_count": null,
   "metadata": {},
   "outputs": [],
   "source": []
  },
  {
   "cell_type": "code",
   "execution_count": null,
   "metadata": {},
   "outputs": [],
   "source": []
  },
  {
   "cell_type": "code",
   "execution_count": null,
   "metadata": {},
   "outputs": [],
   "source": []
  },
  {
   "cell_type": "markdown",
   "metadata": {},
   "source": [
    "##### what is his monthly pay net after his consumption of food items"
   ]
  },
  {
   "cell_type": "code",
   "execution_count": null,
   "metadata": {},
   "outputs": [],
   "source": []
  },
  {
   "cell_type": "code",
   "execution_count": 1,
   "metadata": {},
   "outputs": [
    {
     "name": "stdout",
     "output_type": "stream",
     "text": [
      "6\n"
     ]
    }
   ],
   "source": [
    "import calendar\n",
    "print(calendar.weekday(2016, 5, 15))"
   ]
  },
  {
   "cell_type": "code",
   "execution_count": null,
   "metadata": {},
   "outputs": [],
   "source": []
  }
 ],
 "metadata": {
  "kernelspec": {
   "display_name": "Python 3",
   "language": "python",
   "name": "python3"
  },
  "language_info": {
   "codemirror_mode": {
    "name": "ipython",
    "version": 3
   },
   "file_extension": ".py",
   "mimetype": "text/x-python",
   "name": "python",
   "nbconvert_exporter": "python",
   "pygments_lexer": "ipython3",
   "version": "3.7.6"
  }
 },
 "nbformat": 4,
 "nbformat_minor": 4
}
